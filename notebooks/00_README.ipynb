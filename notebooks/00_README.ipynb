{
 "cells": [
  {
   "cell_type": "markdown",
   "metadata": {},
   "source": [
    "# 00_README"
   ]
  },
  {
   "cell_type": "markdown",
   "metadata": {},
   "source": [
    "## Introduction\n",
    "These notebooks contain examples on how to use the Copernicus Climate Data Store (CDS) to locate, download and process data.  \n",
    "To make using the notebooks easier, we have provided a virtual processing environment, using JupyterLab, on which we have preinstalled the notebooks. The service is available at https://rsg-dias.eofrom.space and can be accessed by anyone with a Google account. Note, this is not an operational service. Resources are limited and the notebooks and server may be restarted without warning. We have provided a folder \"<a href=\"../../my_notebooks\">my_notebooks</a>\" which ''should'' allow you to save notebooks you are working on to access later. However, we recommend that any important work should be downloaded to your local machine."
   ]
  },
  {
   "cell_type": "markdown",
   "metadata": {},
   "source": [
    "## Service administration\n",
    "The service is based upon Docker containers which provide the environment in which your JupyterLab instance runs. When you first use the service it will build you a personal container based upon the latest template. This will include a copy of all the notebooks (as they existed when the template was built). Be patient, it may take a while. You can now run the existing notebooks and create your own. The instance is linked to your Google id. so will not be accessable to anyone else.  \n",
    "Generally, once you have started your instance, it will remain in existence and running so you can return to it at any time. Sometimes it might be necessary for us to shutdown instances or the whole server. If this occurs, then when you log in the next time the instance will be restarted.  \n",
    "The rest of this notebook contains some helpful snippet you might find useful when managing your notebooks. Please do no run them without reading the commentry first."
   ]
  },
  {
   "cell_type": "markdown",
   "metadata": {},
   "source": [
    "## Keeping the notebooks synchronised with GitHub.\n",
    "If we update the GitHub repository after you have created your instance then you will not automatically get the new updates. \n",
    "If you wish to sync up with the latest code then just execute the cell below this.  \n",
    "**WARNING**, this will overwrite any changes you have made to the notebooks."
   ]
  },
  {
   "cell_type": "code",
   "execution_count": 8,
   "metadata": {},
   "outputs": [
    {
     "name": "stdout",
     "output_type": "stream",
     "text": [
      "Saved working directory and index state WIP on master: 898995a Update README.md\n",
      "Already up to date.\n"
     ]
    }
   ],
   "source": [
    "# We need to set a dummy name to prevent the local git program complaining.\n",
    "!git config user.email \"me@somewhere\"\n",
    "!git config user.name \"A user\"\n",
    "\n",
    "# We now make a temporary copy of any changes made to the the notebooks. Otherwise git will not allow us to \n",
    "# pull on top of them.\n",
    "!git stash\n",
    "\n",
    "# Finally pull the latest version of the notebooks down from GitHub.\n",
    "!git pull"
   ]
  },
  {
   "cell_type": "code",
   "execution_count": null,
   "metadata": {},
   "outputs": [],
   "source": []
  }
 ],
 "metadata": {
  "kernelspec": {
   "display_name": "Python 3",
   "language": "python",
   "name": "python3"
  },
  "language_info": {
   "codemirror_mode": {
    "name": "ipython",
    "version": 3
   },
   "file_extension": ".py",
   "mimetype": "text/x-python",
   "name": "python",
   "nbconvert_exporter": "python",
   "pygments_lexer": "ipython3",
   "version": "3.7.3"
  }
 },
 "nbformat": 4,
 "nbformat_minor": 2
}
